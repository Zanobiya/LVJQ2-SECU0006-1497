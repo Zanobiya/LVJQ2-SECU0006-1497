{
 "cells": [
  {
   "cell_type": "code",
   "execution_count": 1,
   "id": "b4a24223-f2c7-4eb1-97d7-ab4aadb73c7e",
   "metadata": {},
   "outputs": [
    {
     "data": {
      "text/html": [
       "<span style=\"color: blue; font-size: 48px;\">Rising Levels of Worry about Crime in England and Wales</span>"
      ],
      "text/plain": [
       "<IPython.core.display.HTML object>"
      ]
     },
     "execution_count": 1,
     "metadata": {},
     "output_type": "execute_result"
    }
   ],
   "source": [
    "from IPython.display import HTML #this is a package that specfies how an element is displayed \n",
    "HTML('<span style=\"color: blue; font-size: 48px;\">Rising Levels of Worry about Crime in England and Wales</span>') #this line of code changes the colour \n",
    "#and font size of the text, which I wanted to be blue and large"
   ]
  },
  {
   "cell_type": "markdown",
   "id": "6ab71376-986c-4f4f-9b75-e096fd86940c",
   "metadata": {},
   "source": [
    "_written by LVJQ2_\n",
    "- **SECU0006 'Probability, Statistics & Modelling 1' Coursework**\n",
    "- **Candidate number: LVJQ2**\n",
    "- **Word count: 1497**"
   ]
  },
  {
   "cell_type": "markdown",
   "id": "eeaad82b-4016-4c9d-befb-5af3cc31e812",
   "metadata": {},
   "source": [
    "_This notebook, based upon data retrieved from The CSEW (2013-2014), will present the perceptions of crime in England and Wales. It will particularly \n",
    "perform statistical analysis around the public's fear of becoming a victim of crime, whether that be due to mugging, burglary, physical attacks, and the extent of the issue and its relationship with other factors._\n",
    "\n",
    "_Here are the links that I will be using to retrieve the statistical data:_ \n",
    "- https://moodle.ucl.ac.uk/pluginfile.php/7624568/mod_resource/content/8/csew1314teachingopen.dta?forcedownload=1\n",
    "- https://ucl-eu-west-2-moodle-sitedata.s3.eu-west-2.amazonaws.com/43/ba/43ba1754368fbfe1243a33a8184640dc34e96ca1?"
   ]
  },
  {
   "cell_type": "markdown",
   "id": "659dd2d3-6a90-4991-838a-9abc5df9b944",
   "metadata": {},
   "source": [
    "### _This notebook will identify the variable(s) relevant to this issue as follows:_"
   ]
  },
  {
   "cell_type": "markdown",
   "id": "b731143e-863a-4f6f-9171-c65dd4e62712",
   "metadata": {},
   "source": [
    "### General worry of being a victim of crime indicator labelled as 'worryx': \n",
    "- It ranges from -1.39 to 2.9. The higher the score, the higher the level of worry; retrieved from CSEW dataset codebook\n",
    "\n",
    "### Types of levels of worry\n",
    "- Not at all worried\n",
    "- Not very worried\n",
    "- Neutral\n",
    "- Somewhat worried\n",
    "- Very worried\n",
    "\n",
    "\n",
    "### Factors that might influence levels of worry \n",
    "- Age\n",
    "- Sex\n",
    "- Relationship status\n",
    "- Ethnicity\n",
    "- Job status\n",
    "\n",
    "### Types of crimes\n",
    "- Mugging\n",
    "- Burglary\n",
    "- Physical attacks"
   ]
  },
  {
   "cell_type": "markdown",
   "id": "a285e535-e003-48e6-84e4-7dad0e18251d",
   "metadata": {},
   "source": [
    "### Required libraries \n",
    "- NumPy\n",
    "- IPython\n",
    "- Pandas\n",
    "- StatsModels\n",
    "- Matplotlibplotlib"
   ]
  },
  {
   "cell_type": "code",
   "execution_count": 10,
   "id": "bf685d34-a354-449f-b63c-3a61331c5191",
   "metadata": {},
   "outputs": [],
   "source": [
    "import matplotlib.pyplot as plt\n",
    "%matplotlib inline\n",
    "import numpy as np\n",
    "import pandas as pd\n",
    "import seaborn as sns\n",
    "from IPython.display import HTML"
   ]
  },
  {
   "cell_type": "markdown",
   "id": "68ff31c3-95c9-41cb-a9c6-9b9a2e6abc97",
   "metadata": {},
   "source": [
    "_First, using the variables I have stated, I will be performing a descriptive, yet transparent, analysis of worry about crime among survey respondents, so that you, policy-makers within the government, will be able to understand what specific measurements you need to take to resolve the issue. This will be done through making it easier for you to understand and interpret numerical values._\n",
    "\n",
    "_Over here, I will be presenting an overview of the data._"
   ]
  },
  {
   "cell_type": "code",
   "execution_count": null,
   "id": "61bda7cb-b4ad-4972-9f4e-044bffb358d4",
   "metadata": {},
   "outputs": [],
   "source": [
    "sns.set() "
   ]
  },
  {
   "cell_type": "code",
   "execution_count": 6,
   "id": "9e48b3a1-1417-4460-af1d-c865072b0721",
   "metadata": {},
   "outputs": [],
   "source": [
    "csew = pd.read_stata('Downloads/PSM1/csew1314teachingopen (4) - Copy.dta') # this function reads the files data which is stored in a file called\n",
    "#PSM1 "
   ]
  },
  {
   "cell_type": "code",
   "execution_count": 7,
   "id": "57831d1b-6c63-489b-ab76-ef933f940fb5",
   "metadata": {},
   "outputs": [
    {
     "data": {
      "text/html": [
       "<div>\n",
       "<style scoped>\n",
       "    .dataframe tbody tr th:only-of-type {\n",
       "        vertical-align: middle;\n",
       "    }\n",
       "\n",
       "    .dataframe tbody tr th {\n",
       "        vertical-align: top;\n",
       "    }\n",
       "\n",
       "    .dataframe thead th {\n",
       "        text-align: right;\n",
       "    }\n",
       "</style>\n",
       "<table border=\"1\" class=\"dataframe\">\n",
       "  <thead>\n",
       "    <tr style=\"text-align: right;\">\n",
       "      <th></th>\n",
       "      <th>rowlabel</th>\n",
       "      <th>split</th>\n",
       "      <th>sex</th>\n",
       "      <th>yrsarea</th>\n",
       "      <th>resyrago</th>\n",
       "      <th>work2</th>\n",
       "      <th>tenure1</th>\n",
       "      <th>livharm1</th>\n",
       "      <th>agegrp7</th>\n",
       "      <th>ethgrp2a</th>\n",
       "      <th>...</th>\n",
       "      <th>wfromcar</th>\n",
       "      <th>wraped</th>\n",
       "      <th>wattack</th>\n",
       "      <th>wraceatt</th>\n",
       "      <th>worryx</th>\n",
       "      <th>bcsvictim</th>\n",
       "      <th>rubbcomm</th>\n",
       "      <th>vandcomm</th>\n",
       "      <th>poorhou</th>\n",
       "      <th>antisocx</th>\n",
       "    </tr>\n",
       "  </thead>\n",
       "  <tbody>\n",
       "    <tr>\n",
       "      <th>0</th>\n",
       "      <td>137068050</td>\n",
       "      <td>A (Experiences of the police)</td>\n",
       "      <td>Female</td>\n",
       "      <td>20 years or longer</td>\n",
       "      <td>NaN</td>\n",
       "      <td>Yes</td>\n",
       "      <td>Buying it with the help of a mortgage or loan</td>\n",
       "      <td>Single</td>\n",
       "      <td>45-54</td>\n",
       "      <td>White</td>\n",
       "      <td>...</td>\n",
       "      <td>NaN</td>\n",
       "      <td>NaN</td>\n",
       "      <td>NaN</td>\n",
       "      <td>NaN</td>\n",
       "      <td>NaN</td>\n",
       "      <td>Not a victim of crime</td>\n",
       "      <td>Not very common</td>\n",
       "      <td>Not very common</td>\n",
       "      <td>Not very common</td>\n",
       "      <td>2.065439</td>\n",
       "    </tr>\n",
       "    <tr>\n",
       "      <th>1</th>\n",
       "      <td>147461190</td>\n",
       "      <td>C (Crime prevention and security)</td>\n",
       "      <td>Female</td>\n",
       "      <td>10 years but less than 20 years</td>\n",
       "      <td>NaN</td>\n",
       "      <td>No</td>\n",
       "      <td>Own it outright</td>\n",
       "      <td>Married/Civil Partnered</td>\n",
       "      <td>55-64</td>\n",
       "      <td>White</td>\n",
       "      <td>...</td>\n",
       "      <td>NaN</td>\n",
       "      <td>Not at all worried</td>\n",
       "      <td>Not at all worried</td>\n",
       "      <td>Not at all worried</td>\n",
       "      <td>-1.131902</td>\n",
       "      <td>Not a victim of crime</td>\n",
       "      <td>Not at all common</td>\n",
       "      <td>Not at all common</td>\n",
       "      <td>Not at all common</td>\n",
       "      <td>NaN</td>\n",
       "    </tr>\n",
       "    <tr>\n",
       "      <th>2</th>\n",
       "      <td>137116250</td>\n",
       "      <td>A (Experiences of the police)</td>\n",
       "      <td>Female</td>\n",
       "      <td>20 years or longer</td>\n",
       "      <td>No</td>\n",
       "      <td>No</td>\n",
       "      <td>Rent it</td>\n",
       "      <td>Widowed</td>\n",
       "      <td>55-64</td>\n",
       "      <td>White</td>\n",
       "      <td>...</td>\n",
       "      <td>NaN</td>\n",
       "      <td>NaN</td>\n",
       "      <td>NaN</td>\n",
       "      <td>NaN</td>\n",
       "      <td>NaN</td>\n",
       "      <td>Not a victim of crime</td>\n",
       "      <td>Not very common</td>\n",
       "      <td>Not at all common</td>\n",
       "      <td>Not very common</td>\n",
       "      <td>-0.235942</td>\n",
       "    </tr>\n",
       "    <tr>\n",
       "      <th>3</th>\n",
       "      <td>147354190</td>\n",
       "      <td>C (Crime prevention and security)</td>\n",
       "      <td>Female</td>\n",
       "      <td>20 years or longer</td>\n",
       "      <td>NaN</td>\n",
       "      <td>Yes</td>\n",
       "      <td>Buying it with the help of a mortgage or loan</td>\n",
       "      <td>Married/Civil Partnered</td>\n",
       "      <td>55-64</td>\n",
       "      <td>White</td>\n",
       "      <td>...</td>\n",
       "      <td>NaN</td>\n",
       "      <td>Not at all worried</td>\n",
       "      <td>Not very worried</td>\n",
       "      <td>Not at all worried</td>\n",
       "      <td>-0.257574</td>\n",
       "      <td>Victim of crime</td>\n",
       "      <td>Not at all common</td>\n",
       "      <td>Not at all common</td>\n",
       "      <td>Not at all common</td>\n",
       "      <td>NaN</td>\n",
       "    </tr>\n",
       "    <tr>\n",
       "      <th>4</th>\n",
       "      <td>137061230</td>\n",
       "      <td>C (Crime prevention and security)</td>\n",
       "      <td>Female</td>\n",
       "      <td>20 years or longer</td>\n",
       "      <td>NaN</td>\n",
       "      <td>No</td>\n",
       "      <td>Rent it</td>\n",
       "      <td>Widowed</td>\n",
       "      <td>65-74</td>\n",
       "      <td>White</td>\n",
       "      <td>...</td>\n",
       "      <td>NaN</td>\n",
       "      <td>Fairly worried</td>\n",
       "      <td>Fairly worried</td>\n",
       "      <td>Not very worried</td>\n",
       "      <td>1.184152</td>\n",
       "      <td>Not a victim of crime</td>\n",
       "      <td>Not very common</td>\n",
       "      <td>Not very common</td>\n",
       "      <td>Not very common</td>\n",
       "      <td>NaN</td>\n",
       "    </tr>\n",
       "  </tbody>\n",
       "</table>\n",
       "<p>5 rows × 32 columns</p>\n",
       "</div>"
      ],
      "text/plain": [
       "    rowlabel                              split     sex  \\\n",
       "0  137068050      A (Experiences of the police)  Female   \n",
       "1  147461190  C (Crime prevention and security)  Female   \n",
       "2  137116250      A (Experiences of the police)  Female   \n",
       "3  147354190  C (Crime prevention and security)  Female   \n",
       "4  137061230  C (Crime prevention and security)  Female   \n",
       "\n",
       "                           yrsarea resyrago work2  \\\n",
       "0               20 years or longer      NaN   Yes   \n",
       "1  10 years but less than 20 years      NaN    No   \n",
       "2               20 years or longer       No    No   \n",
       "3               20 years or longer      NaN   Yes   \n",
       "4               20 years or longer      NaN    No   \n",
       "\n",
       "                                         tenure1                 livharm1  \\\n",
       "0  Buying it with the help of a mortgage or loan                   Single   \n",
       "1                                Own it outright  Married/Civil Partnered   \n",
       "2                                        Rent it                  Widowed   \n",
       "3  Buying it with the help of a mortgage or loan  Married/Civil Partnered   \n",
       "4                                        Rent it                  Widowed   \n",
       "\n",
       "  agegrp7 ethgrp2a  ... wfromcar              wraped             wattack  \\\n",
       "0   45-54    White  ...      NaN                 NaN                 NaN   \n",
       "1   55-64    White  ...      NaN  Not at all worried  Not at all worried   \n",
       "2   55-64    White  ...      NaN                 NaN                 NaN   \n",
       "3   55-64    White  ...      NaN  Not at all worried    Not very worried   \n",
       "4   65-74    White  ...      NaN      Fairly worried      Fairly worried   \n",
       "\n",
       "             wraceatt    worryx              bcsvictim           rubbcomm  \\\n",
       "0                 NaN       NaN  Not a victim of crime    Not very common   \n",
       "1  Not at all worried -1.131902  Not a victim of crime  Not at all common   \n",
       "2                 NaN       NaN  Not a victim of crime    Not very common   \n",
       "3  Not at all worried -0.257574        Victim of crime  Not at all common   \n",
       "4    Not very worried  1.184152  Not a victim of crime    Not very common   \n",
       "\n",
       "            vandcomm            poorhou  antisocx  \n",
       "0    Not very common    Not very common  2.065439  \n",
       "1  Not at all common  Not at all common       NaN  \n",
       "2  Not at all common    Not very common -0.235942  \n",
       "3  Not at all common  Not at all common       NaN  \n",
       "4    Not very common    Not very common       NaN  \n",
       "\n",
       "[5 rows x 32 columns]"
      ]
     },
     "execution_count": 7,
     "metadata": {},
     "output_type": "execute_result"
    }
   ],
   "source": [
    "csew.head() # this function prints the first five columns of the table which is useful to carry out as it ensures that the data had uploaded successfully"
   ]
  },
  {
   "cell_type": "markdown",
   "id": "1a652ab9-c973-4f12-af1d-ca79f6fc20f3",
   "metadata": {},
   "source": [
    "_Second, I will be choosing the column that interests us, which in this case is labelled 'worryx,' as previously mentioned._"
   ]
  },
  {
   "cell_type": "code",
   "execution_count": null,
   "id": "de65fb5f-539a-4a38-af1c-384cc0b28979",
   "metadata": {},
   "outputs": [],
   "source": [
    "worry_crime = csew['worryx'] # this isolates the column so we can specifically explore its data in depth "
   ]
  },
  {
   "cell_type": "markdown",
   "id": "7c3ff0c1-002d-44e5-9169-3ca631b26cff",
   "metadata": {},
   "source": [
    "_Third, I will printing descriptive statistics for the level of worry about crime._"
   ]
  },
  {
   "cell_type": "code",
   "execution_count": 10,
   "id": "5d35d16f-8572-48f1-919b-60fb76fa103f",
   "metadata": {},
   "outputs": [
    {
     "name": "stdout",
     "output_type": "stream",
     "text": [
      "descriptive statistics for level of worry (worryx):\n"
     ]
    }
   ],
   "source": [
    "print(\"descriptive statistics for level of worry (worryx):\") # printing this out is neccessary because it provides a label of the data that I will \n",
    "#be displaying next. Without printing, you would just see numerical values and statistics, albeit making it unclear \n",
    "#what these numbers mean and what they are implying."
   ]
  },
  {
   "cell_type": "markdown",
   "id": "b6385194-8dbb-4aa7-81d4-7e64ea781af6",
   "metadata": {},
   "source": [
    "_Fourth, I will be presenting a bar graph representing the values of 'worryx' in sub-steps so if you wish to perform descriptive statistics yourselves, you can use this as a reference guide. This will be done through unravelling the matplotlib.pyplot package, which is a powerful tool in python because it allows you to create data visualisations which are easy to interpret and aesthetically pleasing to the eye, making you, policy-makers, more inclined to engage and carry out data analysis._"
   ]
  },
  {
   "cell_type": "code",
   "execution_count": 4,
   "id": "6dc3bd59-cb33-4af4-94c9-5cfd955acee9",
   "metadata": {},
   "outputs": [
    {
     "data": {
      "image/png": "[encoded data removed]",
      "text/plain": [
       "<Figure size 640x480 with 1 Axes>"
      ]
     },
     "metadata": {},
     "output_type": "display_data"
    }
   ],
   "source": [
    "import matplotlib.pyplot as plt # Step 4a\n",
    "#Step 4b: determine the size of the plot\n",
    "x = [1, 2, 3, 4, 5]  # counts the types of levels of worry which in this case is 5 \n",
    "y = [-1.39, -1.13, -0.25 , 1.18 , 2.9 ]  # list the numerical levels of worry from smallest to biggest.\n",
    "# Over here I accurately placed the smallest and biggest level of worry at both ends to get the most accurate result and filled in the gaps\n",
    "#Step 4c: Outline the labels \n",
    "labels = ['Not at all worried', 'Not very worried', 'Neutral', 'Somewhat worried', 'Very worried'] # this is ordinal data since it is categorised in rankings\n",
    "#Step 4d: Customise your bar graph according to your own aesthetic preferences \n",
    "plt.bar(x, y, color = 'purple', width = 0.9)\n",
    "#Step 4e: Give your bar graph a title\n",
    "plt.title('Descriptive Statistics of Level of Worry About Crime')\n",
    "#Step 4f : Label your x and y axis \n",
    "plt.xticks(x, labels) # this function changes the x labels to the list I ordered above\n",
    "plt.ylabel('occurrence') \n",
    "plt.ylim(-2, 3) # This function makes the standard graph go from -2 up until 3\n",
    "#Step 4g: Print your code to check if it worked \n",
    "plt.show() # this prints the bar graph "
   ]
  },
  {
   "cell_type": "markdown",
   "id": "a34b6fee-fae1-46d1-b7fa-2599e1163729",
   "metadata": {},
   "source": [
    "_Bar charts clearly and visually allow us to make comparisons between which groups are the most and least likely to feel scared of becoming a victim of crime. As seen above, most people are either somewhat worried about crime or very worried, so it is necessary that you ensure that you devise policies that will provide individuals with assurance that the government will make them safer and reduce crime, much like the Anti-social Behaviour, Crime and Policing Act 2014. This act aimed to reduce levels of worry by protecting the most vulnerable groups and individuals who were persistently victims of anti-social behaviour. More acts, such as the one I previously mentioned, may increase public confidence regarding their level of safety because it shows that the government cares about protecting their citizens from any harm they may encounter. Moreover, bar charts are versatile and can answer many questions you may have through perceivable analysis, for example, 'who is the most worried?' , 'who is the least worried?', 'who is feeling neutral about becoming a victim of crime?' and vice versa. This allows you to target and devise strategies towards specific groups. Hence, if you are ever in a situation where you have to deal with complex and rigorous statistical data, following the steps above will allow you to easily produce and understand what the data means, who to target, and what policies need to be put forward._"
   ]
  },
  {
   "cell_type": "markdown",
   "id": "9c867372-f14b-47ee-bbb6-8cae4c36980b",
   "metadata": {},
   "source": [
    "_Now, I will be examining the relationships between the factors I have identified in the beginning of the notebook and worry about crime to make it clearer which group feels the most vulnerable to becoming a victim of crime. This is primarily because looking at the relationship between the levels of worry and other factors can give valuable information about what decisions need to be taken and determine the possible causations for this feeling of fear within a specific group. This will be presented through ANOVA analysis._"
   ]
  },
  {
   "cell_type": "markdown",
   "id": "cd18b18e-f976-4ba6-b4ae-4a24735f9134",
   "metadata": {},
   "source": [
    "_For the fifth part of this crime report, I will be analysing the relationship between age and levels of worry. Further on, I will be delving into how relationship status and gender can affect levels of worry too._"
   ]
  },
  {
   "cell_type": "code",
   "execution_count": 8,
   "id": "abb10960-a663-4bfe-81e4-bdd5a3c212ef",
   "metadata": {},
   "outputs": [],
   "source": [
    "import pandas as pd\n",
    "import matplotlib.pyplot as plt\n",
    "import seaborn as sns"
   ]
  },
  {
   "cell_type": "code",
   "execution_count": null,
   "id": "c9f3f799-fa00-4b3e-adcd-da18dd87f197",
   "metadata": {},
   "outputs": [],
   "source": [
    "sns.set()"
   ]
  },
  {
   "cell_type": "code",
   "execution_count": 12,
   "id": "655ae91b-0fae-4247-982b-b3e00b342ed1",
   "metadata": {},
   "outputs": [
    {
     "data": {
      "text/plain": [
       "agegrp7\n",
       "45-54    1515\n",
       "35-44    1442\n",
       "55-64    1428\n",
       "25-34    1359\n",
       "65-74    1315\n",
       "75+      1099\n",
       "16-24     685\n",
       "Name: count, dtype: int64"
      ]
     },
     "execution_count": 12,
     "metadata": {},
     "output_type": "execute_result"
    }
   ],
   "source": [
    "csew = pd.read_stata('Downloads/PSM1/csew1314teachingopen (4) - Copy.dta')\n",
    "csew['agegrp7'].value_counts() # We can access a specific column by putting its names in brackets. This is convenient as it saves time when dealing with large\n",
    "# large data sets of mostly irrelevant information, and instead we can cater our needs by quickly obtaining the useful information we need, which in this\n",
    "# case is how age influences the worry levels of crime, for example. "
   ]
  },
  {
   "cell_type": "markdown",
   "id": "1469bae2-f5fd-4258-97d9-8ce077fb4bb5",
   "metadata": {},
   "source": [
    "_ANOVA is a useful analysis tool to use because it allows us to compare the means of many groups._"
   ]
  },
  {
   "cell_type": "code",
   "execution_count": 35,
   "id": "fe576721-1e1a-4103-af1f-c6e1e99937eb",
   "metadata": {},
   "outputs": [
    {
     "name": "stderr",
     "output_type": "stream",
     "text": [
      "C:\\Users\\44788\\AppData\\Local\\Temp\\ipykernel_27808\\3355187904.py:1: FutureWarning: The default of observed=False is deprecated and will be changed to True in a future version of pandas. Pass observed=False to retain current behavior or observed=True to adopt the future default and silence this warning.\n",
      "  csew.groupby('agegrp7')['worryx'].mean() # provides the age groups alonside the levels of worry\n"
     ]
    },
    {
     "data": {
      "text/plain": [
       "agegrp7\n",
       "16-24    0.000609\n",
       "25-34    0.070670\n",
       "35-44   -0.050963\n",
       "45-54   -0.022418\n",
       "55-64    0.060532\n",
       "65-74   -0.064787\n",
       "75+     -0.191253\n",
       "Name: worryx, dtype: float32"
      ]
     },
     "execution_count": 35,
     "metadata": {},
     "output_type": "execute_result"
    }
   ],
   "source": [
    "csew.groupby('agegrp7')['worryx'].mean() # provides the age groups alongside the levels of worry"
   ]
  },
  {
   "cell_type": "code",
   "execution_count": 19,
   "id": "e6445078-ea3d-47c0-b5b4-4c0fa1cdfb42",
   "metadata": {},
   "outputs": [
    {
     "name": "stderr",
     "output_type": "stream",
     "text": [
      "C:\\Users\\44788\\AppData\\Local\\Temp\\ipykernel_13644\\3162866023.py:2: FutureWarning: The default of observed=False is deprecated and will be changed to True in a future version of pandas. Pass observed=False to retain current behavior or observed=True to adopt the future default and silence this warning.\n",
      "  csew.groupby('agegrp7')['worryx'].mean()\n"
     ]
    },
    {
     "data": {
      "text/plain": [
       "<Axes: xlabel='worryx', ylabel='agegrp7'>"
      ]
     },
     "execution_count": 19,
     "metadata": {},
     "output_type": "execute_result"
    },
    {
     "data": {
      "image/png": "[encoded data removed]",
      "text/plain": [
       "<Figure size 640x480 with 1 Axes>"
      ]
     },
     "metadata": {},
     "output_type": "display_data"
    }
   ],
   "source": [
    "import seaborn as sns\n",
    "csew.groupby('agegrp7')['worryx'].mean()\n",
    "labels = ['Not at all worried', 'Not very worried', 'Neutral', 'Somewhat worried', 'Very worried']\n",
    "plt.xticks(x, labels) # changes the x-axis to the list I provided above\n",
    "sns.boxplot(x='worryx', y='agegrp7', data=csew)"
   ]
  },
  {
   "cell_type": "markdown",
   "id": "83b29821-f153-4eb2-9674-48f2e979336b",
   "metadata": {},
   "source": [
    "_The age group that tends to be the most worried are 25-34 year olds. This is because the higher the score, the higher the level of worry. \n",
    "Although the visualisation may not be the neatest and clearest, it provides us a somewhat accurate depiction of which age groups tend to be the most \n",
    "worried, with the bar for 25-34 clearly surpassing the other age groups.  We can only see this due to ANOVA, which allows us to see whether there are statistically significant differences between three or more groups numerical means all at once, without having to conduct multiple t-tests, which increases the likelihood of type 1 error (false positive). With cases, such as the rape of Sara Everard, who was 33, committed by a police officer in the UK, and the case of Dr Moumita, aged 31, who got brutally raped by 15 men in Kolkata India, both making headlines across the globe, it was probable that this age group was going to be the most likely to be overwhelmed with fear of becoming a victim of crime too in England and Wales, as the most well-known crime cases were committed against individuals within this age band._"
   ]
  },
  {
   "cell_type": "code",
   "execution_count": null,
   "id": "60ac155b-f717-4c12-860b-a9fb9ff78f0f",
   "metadata": {},
   "outputs": [],
   "source": [
    "import seaborn as sns"
   ]
  },
  {
   "cell_type": "code",
   "execution_count": 41,
   "id": "40cb29cb-418f-4967-8afd-b79d8a159a59",
   "metadata": {},
   "outputs": [],
   "source": [
    "sns.set()\n",
    "csew = pd.read_stata('Downloads/PSM1/csew1314teachingopen (4) - Copy.dta')"
   ]
  },
  {
   "cell_type": "code",
   "execution_count": 46,
   "id": "4b659afb-05a5-4e6c-b034-d271f1028c1f",
   "metadata": {},
   "outputs": [
    {
     "name": "stderr",
     "output_type": "stream",
     "text": [
      "C:\\Users\\44788\\AppData\\Local\\Temp\\ipykernel_27808\\4176785062.py:1: FutureWarning: The default of observed=False is deprecated and will be changed to True in a future version of pandas. Pass observed=False to retain current behavior or observed=True to adopt the future default and silence this warning.\n",
      "  csew.groupby('sex')['bcsvictim'].value_counts()\n"
     ]
    },
    {
     "data": {
      "text/plain": [
       "sex     bcsvictim            \n",
       "Male    Not a victim of crime    3385\n",
       "        Victim of crime           652\n",
       "Female  Not a victim of crime    4075\n",
       "        Victim of crime           731\n",
       "Name: count, dtype: int64"
      ]
     },
     "execution_count": 46,
     "metadata": {},
     "output_type": "execute_result"
    }
   ],
   "source": [
    "csew.groupby('sex')['bcsvictim'].value_counts() # this shows us who is more likely to be a victim of crime depending on the sex. \n",
    "# Being able to quickly retrieve this information through filtering and describing categorical data allows us to establish relationships\n",
    "# and draw logical inferences about why the results given might be the case. "
   ]
  },
  {
   "cell_type": "code",
   "execution_count": 20,
   "id": "d79af98c-3778-451b-ace8-ce244c91c14e",
   "metadata": {},
   "outputs": [
    {
     "data": {
      "text/plain": [
       "<Axes: xlabel='bcsvictim'>"
      ]
     },
     "execution_count": 20,
     "metadata": {},
     "output_type": "execute_result"
    },
    {
     "data": {
      "image/png": "[encoded data removed]",
      "text/plain": [
       "<Figure size 640x480 with 1 Axes>"
      ]
     },
     "metadata": {},
     "output_type": "display_data"
    }
   ],
   "source": [
    "sns.set(style='whitegrid') # this changes the style of the chart. \n",
    "csew['bcsvictim'].value_counts().plot.bar()"
   ]
  },
  {
   "cell_type": "markdown",
   "id": "879131a9-529b-4c1c-b364-6f76d30bd5b6",
   "metadata": {},
   "source": [
    " _White grids are not mandatory for producing accurate readings, but they simply just make data appear more appealing and clearer to analyse. This grid distinctly shows that around 7,200 people are not a victim of crime whereas around 1,200 people are. This indicates that target preventions will most likely be effective to reduce levels of crime rather than broad resource allocation, as 85.7% tend to not encounter crime. Overall, white grids can be beneficial for viewing data clearly, but they do not in any manner impact statistical analysis, which relies on raw data._"
   ]
  },
  {
   "cell_type": "code",
   "execution_count": 21,
   "id": "a7e4d093-a2cb-41ab-a3a1-964b14dfde22",
   "metadata": {},
   "outputs": [
    {
     "data": {
      "text/plain": [
       "<Axes: xlabel='count', ylabel='bcsvictim'>"
      ]
     },
     "execution_count": 21,
     "metadata": {},
     "output_type": "execute_result"
    },
    {
     "data": {
      "image/png": "[encoded data removed]",
      "text/plain": [
       "<Figure size 640x480 with 1 Axes>"
      ]
     },
     "metadata": {},
     "output_type": "display_data"
    }
   ],
   "source": [
    "import pandas as pd\n",
    "import seaborn as sns\n",
    "import matplotlib.pyplot as plt\n",
    "csew = pd.read_stata('Downloads/PSM1/csew1314teachingopen (4) - Copy.dta')\n",
    "sns.countplot(data=csew, y='bcsvictim', hue='sex') # plots the count for each sex concerning if they are likely or not likely to be a victim of crime"
   ]
  },
  {
   "cell_type": "markdown",
   "id": "f3cd8d81-57e6-4e82-ac04-8128884f40a7",
   "metadata": {
    "jp-MarkdownHeadingCollapsed": true
   },
   "source": [
    "_For the column labelled 'Not a victim of crime,' women are less likely to become a victim of crime compared to men. But the column labelled 'Victim of crime' shows the opposite where women are more likely than men to be victims of crime. This might suggest that there is a dark figure. Men may not report being a victim of crime due to toxic masculinity, which involves them suppressing their emotions, affecting data, such like the levels of worry may not be entirely valid, as some men may not want to appear as scared, so they report that they are not worried or not report at all. For example, due to the sexist stereotype that men are supposed to be the 'dominant' gender, males may feel hesitant to report that they were sexually assaulted, like raped, by a woman because it might raise questions about their toughness and power. Hence, you may want to devise interventions that make men feel less embarrassed to report crime. Bar graphs with keys can, therefore, be very useful to determine dark figures and fill in gaps._"
   ]
  },
  {
   "cell_type": "code",
   "execution_count": 22,
   "id": "b3dde6a0-dc4b-4ccc-802a-8f7721ef52c4",
   "metadata": {},
   "outputs": [
    {
     "data": {
      "text/plain": [
       "<Axes: xlabel='count', ylabel='livharm1'>"
      ]
     },
     "execution_count": 22,
     "metadata": {},
     "output_type": "execute_result"
    },
    {
     "data": {
      "image/png": "[encoded data removed]",
      "text/plain": [
       "<Figure size 640x480 with 1 Axes>"
      ]
     },
     "metadata": {},
     "output_type": "display_data"
    }
   ],
   "source": [
    "sns.countplot(data=csew, y='livharm1', hue='bcsvictim') # this compares the relationship between marital status and victim "
   ]
  },
  {
   "cell_type": "markdown",
   "id": "fc63f370-c0ad-4bde-abf9-3a8f5138186d",
   "metadata": {},
   "source": [
    "_This colour coded bar chart will allow you to make quick comparisons about which group is at a higher or lower risk of victimisation without having to interpret complex statistical values that are difficult to understand and time consuming. Further, it illustrates trends, where married/civil partnered individuals are both at the highest of not being a victim and victim of crime. A reason for this could be because many individuals are in toxic relationships, where the victim cannot report they are being domestically abused in fear of increasing their risks of more injury, which is a well documented fact. This will require you, policy-makers, to devise rapid target interventions to make it safer for domestic abuse victims to come forward and share their experiences to put a stop to this pervasive problem._"
   ]
  },
  {
   "cell_type": "markdown",
   "id": "64f8f66a-75ae-4544-9a23-3d0ee30ffa35",
   "metadata": {},
   "source": [
    "_But there are shortcomings in the analysis. First, the data is retrieved from 12 years ago, and the perceptions of crime have most likely differed significantly. One way to resolve this would be to attempt to carry out statistical analysis yourselves with the steps I have provided in this crime report based on data from 2024-25, which clearly will not take long as creating graphs has been made easily accessible. Second, some respondents in the CSEW may not even know that they have been a victim of crime. This can be mitigated through you educating individuals about the types of crimes there are._"
   ]
  },
  {
   "cell_type": "markdown",
   "id": "aa9ef81f-15e0-4e4c-98f5-9ad02c26ec80",
   "metadata": {},
   "source": [
    "_In conclusion, performing statistical analysis is an effective and time-efficient way to interpret data and draw conclusions. This crime report has shown you that in order to mitigate fear amongst individuals, target interventions are necessary, particularly aimed at men but also women, married individuals, and 25-34 year olds, in England and Wales._"
   ]
  },
  {
   "cell_type": "markdown",
   "id": "4160420c-c6d1-4cf5-b685-6cc60197023d",
   "metadata": {},
   "source": [
    "References\n",
    "\n",
    "Bar Charts. (2024). Retrieved from Tableau website: https://www.tableau.com/chart/what-is-bar-chart\n",
    "Holtz, Y. (n.d.). Control the color of barplots built with matplotlib. Retrieved from The Python Graph Gallery website: https://python-graph-gallery.com/3-control-color-of-barplots/\n",
    "Home Office. (2023). Anti-social Behaviour, Crime and Policing Act 2014: Anti-social behaviour powers Statutory guidance for frontline professionals. Retrieved from https://assets.publishing.service.gov.uk/media/6422a19b60a35e00120cae63/2023_Update_ASB_Statutory_Guidance_-_FINAL__1_.pdf\n",
    "How to change font size, color and highlight in markdown. | Kaggle. (2025). Retrieved January 11, 2025, from Kaggle.com website: https://www.kaggle.com/discussions/questions-and-answers/174214\n",
    "Laerd Statistics. (2018). One-way ANOVA - Its preference to multiple t-tests and the assumptions needed to run this test | Laerd Statistics. Retrieved from Laerd.com website: https://statistics.laerd.com/statistical-guides/one-way-anova-statistical-guide-2.php\n",
    "matplotlib get ylim values. (n.d.). Retrieved from Stack Overflow website: https://stackoverflow.com/questions/26131607/matplotlib-get-ylim-values\n",
    "matplotlib.pyplot.xticks — Matplotlib 3.5.1 documentation. (n.d.). Retrieved from matplotlib.org website: https://matplotlib.org/stable/api/_as_gen/matplotlib.pyplot.xticks.html\n",
    "Matplotlib.pyplot.xticks() in Python. (2020, March 25). Retrieved from GeeksforGeeks website: https://www.geeksforgeeks.org/matplotlib-pyplot-xticks-in-python/\n",
    "Module: display — IPython 8.26.0 documentation. (2024). Retrieved January 12, 2025, from Readthedocs.io website: https://ipython.readthedocs.io/en/8.26.0/api/generated/IPython.display.html\n",
    "Morton, B. (2021, September 30). Sarah Everard: How Wayne Couzens planned her murder. BBC News. Retrieved from https://www.bbc.co.uk/news/uk-58746108\n",
    "punkrockpolly. (2024). How to change color in markdown cells ipython/jupyter notebook? Retrieved from Stack Overflow website: https://stackoverflow.com/questions/19746350/how-to-change-color-in-markdown-cells-ipython-jupyter-notebook\n",
    "Qualtrics. (2024, March 7). What is ANOVA (Analysis Of Variance) - Qualtrics. Retrieved from Qualtrics website: https://www.qualtrics.com/en-gb/experience-management/research/anova/\n",
    "tutor2u. (n.d.). CSEW Strengths and limitations. Retrieved from www.tutor2u.net website: https://www.tutor2u.net/criminology/topics/strengths-and-limitations-of-csew\n",
    "The Daily Star. (2024, August 17). Retrieved January 10, 2025, from The Daily Star website: https://www.thedailystar.net/opinion/views/news/it-couldve-been-any-one-us-moumitas-place-3679421\n",
    "University, F. S. (n.d.). Florida State University. Retrieved from www.fsu.edu website: https://www.fsu.edu/\n",
    "Yi, M. (2024). A Complete Guide to Bar Charts. Retrieved from Atlassian website: https://www.atlassian.com/data/charts/bar-chart-complete-guide"
   ]
  }
 ],
 "metadata": {
  "kernelspec": {
   "display_name": "Python 3 (ipykernel)",
   "language": "python",
   "name": "python3"
  },
  "language_info": {
   "codemirror_mode": {
    "name": "ipython",
    "version": 3
   },
   "file_extension": ".py",
   "mimetype": "text/x-python",
   "name": "python",
   "nbconvert_exporter": "python",
   "pygments_lexer": "ipython3",
   "version": "3.12.4"
  }
 },
 "nbformat": 4,
 "nbformat_minor": 5
}
